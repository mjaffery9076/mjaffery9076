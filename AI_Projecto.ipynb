{
  "nbformat": 4,
  "nbformat_minor": 0,
  "metadata": {
    "colab": {
      "provenance": [],
      "authorship_tag": "ABX9TyNXvuMCpJ8YPv8DJcJxRprs",
      "include_colab_link": true
    },
    "kernelspec": {
      "name": "python3",
      "display_name": "Python 3"
    },
    "language_info": {
      "name": "python"
    }
  },
  "cells": [
    {
      "cell_type": "markdown",
      "metadata": {
        "id": "view-in-github",
        "colab_type": "text"
      },
      "source": [
        "<a href=\"https://colab.research.google.com/github/mjaffery9076/mjaffery9076/blob/main/AI_Projecto.ipynb\" target=\"_parent\"><img src=\"https://colab.research.google.com/assets/colab-badge.svg\" alt=\"Open In Colab\"/></a>"
      ]
    },
    {
      "cell_type": "code",
      "execution_count": null,
      "metadata": {
        "id": "B4dlIx46z6iH"
      },
      "outputs": [],
      "source": [
        "!pip install scrapy\n",
        "import scrapy\n",
        "from scrapy import Request\n",
        "from scrapy.selector import Selector\n",
        "import tensorflow as tf\n",
        "from tensorflow.keras import layers\n",
        "import numpy as np"
      ]
    },
    {
      "cell_type": "code",
      "source": [
        "\n",
        "# Define the model architecture\n",
        "model = tf.keras.Sequential([\n",
        "    layers.Dense(64, activation='relu', input_shape=(784,)),\n",
        "    layers.Dense(64, activation='relu'),\n",
        "    layers.Dense(1, activation='sigmoid')\n",
        "])\n",
        "\n",
        "# Compile the model with an optimizer and loss function\n",
        "model.compile(optimizer='adam',\n",
        "              loss='binary_crossentropy',\n",
        "              metrics=['accuracy'])\n",
        "\n",
        "# Load and preprocess the data\n",
        "(x_train, y_train), (x_test, y_test) = tf.keras.datasets.mnist.load_data()\n",
        "x_train = x_train.reshape((60000, 784)) / 255.0\n",
        "x_test = x_test.reshape((10000, 784)) / 255.0\n",
        "y_train = y_train.astype('float32')\n",
        "y_test = y_test.astype('float32')\n",
        "\n",
        "# Train the model for a specified number of epochs\n",
        "history = model.fit(x_train, y_train, epochs=10, batch_size=32, validation_data=(x_test, y_test))\n",
        "\n",
        "# Evaluate the model on the test set\n",
        "test_loss, test_acc = model.evaluate(x_test, y_test, verbose=2)\n",
        "\n",
        "# Print the test accuracy\n",
        "print('Test accuracy:', test_acc)\n"
      ],
      "metadata": {
        "colab": {
          "base_uri": "https://localhost:8080/"
        },
        "id": "Zv9NFFwvV9Xm",
        "outputId": "849d0ff3-12b4-4dcc-9fb9-7fedac2f064c"
      },
      "execution_count": 13,
      "outputs": [
        {
          "output_type": "stream",
          "name": "stdout",
          "text": [
            "Epoch 1/10\n",
            "1875/1875 [==============================] - 8s 4ms/step - loss: -4968526.0000 - accuracy: 0.1123 - val_loss: -19300132.0000 - val_accuracy: 0.1135\n",
            "Epoch 2/10\n",
            "1875/1875 [==============================] - 6s 3ms/step - loss: -59507956.0000 - accuracy: 0.1124 - val_loss: -118060560.0000 - val_accuracy: 0.1135\n",
            "Epoch 3/10\n",
            "1875/1875 [==============================] - 7s 4ms/step - loss: -206502384.0000 - accuracy: 0.1124 - val_loss: -322282240.0000 - val_accuracy: 0.1135\n",
            "Epoch 4/10\n",
            "1875/1875 [==============================] - 6s 3ms/step - loss: -466511840.0000 - accuracy: 0.1124 - val_loss: -651759744.0000 - val_accuracy: 0.1135\n",
            "Epoch 5/10\n",
            "1875/1875 [==============================] - 7s 4ms/step - loss: -858863232.0000 - accuracy: 0.1124 - val_loss: -1126316032.0000 - val_accuracy: 0.1135\n",
            "Epoch 6/10\n",
            "1875/1875 [==============================] - 7s 4ms/step - loss: -1405040000.0000 - accuracy: 0.1124 - val_loss: -1768724736.0000 - val_accuracy: 0.1135\n",
            "Epoch 7/10\n",
            "1875/1875 [==============================] - 7s 4ms/step - loss: -2124654336.0000 - accuracy: 0.1124 - val_loss: -2597718528.0000 - val_accuracy: 0.1135\n",
            "Epoch 8/10\n",
            "1875/1875 [==============================] - 7s 4ms/step - loss: -3039790592.0000 - accuracy: 0.1124 - val_loss: -3637435136.0000 - val_accuracy: 0.1135\n",
            "Epoch 9/10\n",
            "1875/1875 [==============================] - 6s 3ms/step - loss: -4168028416.0000 - accuracy: 0.1124 - val_loss: -4903112192.0000 - val_accuracy: 0.1135\n",
            "Epoch 10/10\n",
            "1875/1875 [==============================] - 7s 4ms/step - loss: -5530733056.0000 - accuracy: 0.1124 - val_loss: -6418139648.0000 - val_accuracy: 0.1135\n",
            "313/313 - 0s - loss: -6.4181e+09 - accuracy: 0.1135 - 462ms/epoch - 1ms/step\n",
            "Test accuracy: 0.11349999904632568\n"
          ]
        }
      ]
    },
    {
      "cell_type": "code",
      "source": [
        "import tensorflow as tf\n",
        "\n",
        "# Define the training data\n",
        "train_data = [\n",
        "    ('I love this sandwich', 1),\n",
        "    ('This is an amazing place', 1),\n",
        "    ('I feel very good about these beers', 1),\n",
        "    ('This is my best work', 1),\n",
        "    (\"What an awesome view\", 1),\n",
        "    ('I do not like this restaurant', 0),\n",
        "    ('I am tired of this stuff', 0),\n",
        "    (\"I can't deal with this\", 0),\n",
        "    ('He is my sworn enemy', 0),\n",
        "    ('My boss is horrible', 0)\n",
        "]\n",
        "\n",
        "# Define the vocabulary size and the maximum length of input sequences\n",
        "vocab_size = 50\n",
        "max_length = 10\n",
        "\n",
        "# Define the tokenizer\n",
        "tokenizer = tf.keras.preprocessing.text.Tokenizer(num_words=vocab_size)\n",
        "tokenizer.fit_on_texts([x[0] for x in train_data])\n",
        "\n",
        "# Convert the training data into sequences\n",
        "train_sequences = tokenizer.texts_to_sequences([x[0] for x in train_data])\n",
        "train_padded_sequences = tf.keras.preprocessing.sequence.pad_sequences(train_sequences, maxlen=max_length, padding='post')\n",
        "\n",
        "# Define the model\n",
        "model = tf.keras.Sequential([\n",
        "    tf.keras.layers.Embedding(vocab_size, 16, input_length=max_length),\n",
        "    tf.keras.layers.GlobalAveragePooling1D(),\n",
        "    tf.keras.layers.Dense(1, activation='sigmoid')\n",
        "])\n",
        "\n",
        "# Compile the model\n",
        "model.compile(optimizer='adam', loss='binary_crossentropy', metrics=['accuracy'])\n",
        "\n",
        "# Train the model\n",
        "model.fit(train_padded_sequences, [x[1] for x in train_data], epochs=20, batch_size=1)\n",
        "\n",
        "# Save the model\n",
        "model.save('AIProject.h5')\n"
      ],
      "metadata": {
        "colab": {
          "base_uri": "https://localhost:8080/",
          "height": 394
        },
        "id": "7qGpZaHHXnaA",
        "outputId": "8d9148ec-ab7b-4569-cdee-b842267d5c65"
      },
      "execution_count": 14,
      "outputs": [
        {
          "output_type": "error",
          "ename": "ValueError",
          "evalue": "ignored",
          "traceback": [
            "\u001b[0;31m---------------------------------------------------------------------------\u001b[0m",
            "\u001b[0;31mValueError\u001b[0m                                Traceback (most recent call last)",
            "\u001b[0;32m<ipython-input-14-1eb2d3df4d00>\u001b[0m in \u001b[0;36m<cell line: 40>\u001b[0;34m()\u001b[0m\n\u001b[1;32m     38\u001b[0m \u001b[0;34m\u001b[0m\u001b[0m\n\u001b[1;32m     39\u001b[0m \u001b[0;31m# Train the model\u001b[0m\u001b[0;34m\u001b[0m\u001b[0;34m\u001b[0m\u001b[0m\n\u001b[0;32m---> 40\u001b[0;31m \u001b[0mmodel\u001b[0m\u001b[0;34m.\u001b[0m\u001b[0mfit\u001b[0m\u001b[0;34m(\u001b[0m\u001b[0mtrain_padded_sequences\u001b[0m\u001b[0;34m,\u001b[0m \u001b[0;34m[\u001b[0m\u001b[0mx\u001b[0m\u001b[0;34m[\u001b[0m\u001b[0;36m1\u001b[0m\u001b[0;34m]\u001b[0m \u001b[0;32mfor\u001b[0m \u001b[0mx\u001b[0m \u001b[0;32min\u001b[0m \u001b[0mtrain_data\u001b[0m\u001b[0;34m]\u001b[0m\u001b[0;34m,\u001b[0m \u001b[0mepochs\u001b[0m\u001b[0;34m=\u001b[0m\u001b[0;36m20\u001b[0m\u001b[0;34m,\u001b[0m \u001b[0mbatch_size\u001b[0m\u001b[0;34m=\u001b[0m\u001b[0;36m1\u001b[0m\u001b[0;34m)\u001b[0m\u001b[0;34m\u001b[0m\u001b[0;34m\u001b[0m\u001b[0m\n\u001b[0m\u001b[1;32m     41\u001b[0m \u001b[0;34m\u001b[0m\u001b[0m\n\u001b[1;32m     42\u001b[0m \u001b[0;31m# Save the model\u001b[0m\u001b[0;34m\u001b[0m\u001b[0;34m\u001b[0m\u001b[0m\n",
            "\u001b[0;32m/usr/local/lib/python3.9/dist-packages/keras/utils/traceback_utils.py\u001b[0m in \u001b[0;36merror_handler\u001b[0;34m(*args, **kwargs)\u001b[0m\n\u001b[1;32m     68\u001b[0m             \u001b[0;31m# To get the full stack trace, call:\u001b[0m\u001b[0;34m\u001b[0m\u001b[0;34m\u001b[0m\u001b[0m\n\u001b[1;32m     69\u001b[0m             \u001b[0;31m# `tf.debugging.disable_traceback_filtering()`\u001b[0m\u001b[0;34m\u001b[0m\u001b[0;34m\u001b[0m\u001b[0m\n\u001b[0;32m---> 70\u001b[0;31m             \u001b[0;32mraise\u001b[0m \u001b[0me\u001b[0m\u001b[0;34m.\u001b[0m\u001b[0mwith_traceback\u001b[0m\u001b[0;34m(\u001b[0m\u001b[0mfiltered_tb\u001b[0m\u001b[0;34m)\u001b[0m \u001b[0;32mfrom\u001b[0m \u001b[0;32mNone\u001b[0m\u001b[0;34m\u001b[0m\u001b[0;34m\u001b[0m\u001b[0m\n\u001b[0m\u001b[1;32m     71\u001b[0m         \u001b[0;32mfinally\u001b[0m\u001b[0;34m:\u001b[0m\u001b[0;34m\u001b[0m\u001b[0;34m\u001b[0m\u001b[0m\n\u001b[1;32m     72\u001b[0m             \u001b[0;32mdel\u001b[0m \u001b[0mfiltered_tb\u001b[0m\u001b[0;34m\u001b[0m\u001b[0;34m\u001b[0m\u001b[0m\n",
            "\u001b[0;32m/usr/local/lib/python3.9/dist-packages/keras/engine/data_adapter.py\u001b[0m in \u001b[0;36mselect_data_adapter\u001b[0;34m(x, y)\u001b[0m\n\u001b[1;32m   1080\u001b[0m     \u001b[0;32mif\u001b[0m \u001b[0;32mnot\u001b[0m \u001b[0madapter_cls\u001b[0m\u001b[0;34m:\u001b[0m\u001b[0;34m\u001b[0m\u001b[0;34m\u001b[0m\u001b[0m\n\u001b[1;32m   1081\u001b[0m         \u001b[0;31m# TODO(scottzhu): This should be a less implementation-specific error.\u001b[0m\u001b[0;34m\u001b[0m\u001b[0;34m\u001b[0m\u001b[0m\n\u001b[0;32m-> 1082\u001b[0;31m         raise ValueError(\n\u001b[0m\u001b[1;32m   1083\u001b[0m             \"Failed to find data adapter that can handle input: {}, {}\".format(\n\u001b[1;32m   1084\u001b[0m                 \u001b[0m_type_name\u001b[0m\u001b[0;34m(\u001b[0m\u001b[0mx\u001b[0m\u001b[0;34m)\u001b[0m\u001b[0;34m,\u001b[0m \u001b[0m_type_name\u001b[0m\u001b[0;34m(\u001b[0m\u001b[0my\u001b[0m\u001b[0;34m)\u001b[0m\u001b[0;34m\u001b[0m\u001b[0;34m\u001b[0m\u001b[0m\n",
            "\u001b[0;31mValueError\u001b[0m: Failed to find data adapter that can handle input: <class 'numpy.ndarray'>, (<class 'list'> containing values of types {\"<class 'int'>\"})"
          ]
        }
      ]
    },
    {
      "cell_type": "code",
      "source": [
        "\n",
        "\n",
        "class TwitterSpider(scrapy.Spider):\n",
        "    name = \"twitter\"\n",
        "\n",
        "    def __init__(self, query=\"\", **kwargs):\n",
        "        self.allowed_domains = [\"twitter.com\"]\n",
        "        self.start_urls = [f\"https://twitter.com/search?q={query}&src=typed_query\"]\n",
        "        super().__init__(**kwargs)\n",
        "\n",
        "    def start_requests(self):\n",
        "        for url in self.start_urls:\n",
        "            yield Request(url, callback=self.parse)\n",
        "\n",
        "    def parse(self, response):\n",
        "        # Extract the text of each ping using a CSS selector\n",
        "        ping_text = response.css(\"div.tweet-text::text\").getall()\n",
        "\n",
        "        # Evaluate the sentiment of each ping using the Tensorflow model\n",
        "        positive_words = [('nice', 0.8), ('good', 0.9), ('cool', 0.7)]\n",
        "        negative_words = [('bad', 0.8), ('horrible', 0.9)]\n",
        "        model = tf.keras.models.load_model('sentiment_analysis_model.h5')\n",
        "        positive_pings = []\n",
        "        negative_pings = []\n",
        "        for text in ping_text:\n",
        "            encoding = preprocess_data(text)\n",
        "            sentiment = model.predict(encoding)[0][0]\n",
        "            if sentiment > 0.5:\n",
        "                positive_pings.append(text)\n",
        "            else:\n",
        "                negative_pings.append(text)\n",
        "\n",
        "        # Output the positive and negative pings\n",
        "        print(\"Positive pings:\")\n",
        "        for ping in positive_pings:\n",
        "            print(ping)\n",
        "        print(\"Negative pings:\")\n",
        "        for ping in negative_pings:\n",
        "            print(ping)\n",
        "\n",
        "def preprocess_data(text):\n",
        "    # Tokenize the text\n",
        "    tokens = text.lower().split()\n",
        "\n",
        "    # Create a weighted one-hot encoding of the text\n",
        "    positive_words = [('nice', 0.8), ('good', 0.9), ('cool', 0.7)]\n",
        "    negative_words = [('bad', 0.8), ('horrible', 0.9)]\n",
        "    one_hot_encoding = [word_weight * int(word == token) for token in tokens for word, word_weight in (positive_words + negative_words)]\n",
        "\n",
        "    # Reshape the encoding to match the input shape of the model\n",
        "    encoding = np.reshape(one_hot_encoding, (1, len(one_hot_encoding)))\n",
        "\n",
        "    return encoding\n"
      ],
      "metadata": {
        "id": "mVmtnqftVABp"
      },
      "execution_count": 7,
      "outputs": []
    }
  ]
}